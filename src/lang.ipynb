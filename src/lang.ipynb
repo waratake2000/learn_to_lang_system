{
 "cells": [
  {
   "cell_type": "code",
   "execution_count": null,
   "metadata": {},
   "outputs": [],
   "source": [
    "import json\n",
    "import os\n",
    "\n",
    "with open(\"./apikey.json\") as f:\n",
    "    json_file = json.load(f)\n",
    "os.environ[\"OPENAI_API_KEY\"] = json_file[\"apikey\"]\n",
    "print(json_file[\"apikey\"])"
   ]
  },
  {
   "cell_type": "code",
   "execution_count": null,
   "metadata": {},
   "outputs": [],
   "source": [
    "from langchain.document_loaders import PyPDFLoader\n",
    "from langchain.vectorstores import Chroma\n",
    "from langchain.embeddings.openai import OpenAIEmbeddings\n",
    "from langchain.indexes import VectorstoreIndexCreator\n",
    "from langchain.text_splitter import CharacterTextSplitter\n",
    "\n",
    "from langchain.document_loaders import UnstructuredURLLoader\n",
    "\n",
    "urls = [\n",
    "    \"https://zenn.dev/umi_mori/articles/what-is-gpt-4\", # GPT-4とは？【概要と使い方 / GPT-3.5と比較 / ChatGPTでの使用方法】\n",
    "    \"https://zenn.dev/umi_mori/articles/chatgpt-api-python\", # ChatGPT APIの「概要と使い方」（Pythonコード付き）\n",
    "    \"https://zenn.dev/umi_mori/articles/chatgpt-google-chrome-plugins\", # ChatGPTの便利プラグイン7選【Google Chrome拡張機能】\n",
    "]\n",
    "\n",
    "loader = UnstructuredURLLoader(urls=urls)\n",
    "print(loader.load())\n",
    "\n",
    "text_splitter = CharacterTextSplitter(\n",
    "    separator = \"\\n\",\n",
    "    chunk_size = 300,\n",
    "    chunk_overlap = 0,\n",
    "    length_function = len,\n",
    ")\n",
    "\n",
    "index = VectorstoreIndexCreator(\n",
    "    vectorstore_cls=Chroma, # Default\n",
    "    embedding=OpenAIEmbeddings(), # Default\n",
    "    text_splitter=text_splitter,\n",
    ").from_loaders([loader])\n",
    "\n",
    "query = \"7番目に紹介しているChatGPT便利プラグインは？\"\n",
    "\n",
    "answer = index.query(query)\n",
    "print(answer)"
   ]
  }
 ],
 "metadata": {
  "language_info": {
   "name": "python"
  },
  "orig_nbformat": 4
 },
 "nbformat": 4,
 "nbformat_minor": 2
}
